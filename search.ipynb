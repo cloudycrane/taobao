{
 "cells": [
  {
   "cell_type": "code",
   "execution_count": 49,
   "metadata": {
    "collapsed": true
   },
   "outputs": [],
   "source": [
    "# -*- coding: UTF-8 -*-\n",
    "import sys\n",
    "from urllib import quote_plus\n",
    "import json\n",
    "import requests\n",
    "\n",
    "URL_BASE = 'http://s.m.taobao.com/search?q={}&n=200&m=api4h5&style=list&page={}'\n",
    "\n",
    "def url_get(url):\n",
    "    # print('GET ' + url)\n",
    "    header = dict()\n",
    "    header['Accept'] = 'text/html,application/xhtml+xml,application/xml;q=0.9,*/*;q=0.8'\n",
    "    header['Accept-Encoding'] = 'gzip,deflate,sdch'\n",
    "    header['Accept-Language'] = 'en-US,en;q=0.8'\n",
    "    header['Connection'] = 'keep-alive'\n",
    "    header['DNT'] = '1'\n",
    "    # header['User-Agent'] = 'Mozilla/5.0 (Macintosh; Intel Mac OS X 10_8_0) AppleWebKit/537.36 (KHTML, like Gecko) Chrome/28.0.1500.71 Safari/537.36'\n",
    "    header['User-Agent'] = 'Mozilla/12.0 (compatible; MSIE 8.0; Windows NT)'\n",
    "    return requests.get(url, timeout=5, headers=header).text"
   ]
  },
  {
   "cell_type": "code",
   "execution_count": 62,
   "metadata": {},
   "outputs": [],
   "source": [
    "reload(sys)\n",
    "sys.setdefaultencoding('utf-8')\n",
    "\n",
    "item_name = '壹可医研修护水'\n",
    "item_page = '1'\n",
    "\n",
    "coupons = [{'discount': '300', 'condition': '3000'}, {'discount': '200', 'condition': '2000'}]"
   ]
  },
  {
   "cell_type": "code",
   "execution_count": 63,
   "metadata": {},
   "outputs": [],
   "source": [
    "url = URL_BASE.format(quote_plus(item_name), item_page)\n",
    "search = []\n",
    "\n",
    "for tr in range(5):\n",
    "    try:\n",
    "        items_obj = json.loads(url_get(url))\n",
    "        break\n",
    "    except KeyboardInterrupt:\n",
    "        quit()\n",
    "    except Exception as e:\n",
    "        if tr == 4: raise e\n",
    "        \n",
    "if len(items_obj['listItem']) == 0:\n",
    "    print('no listItem')\n",
    "    \n",
    "for item in items_obj['listItem']:\n",
    "    itemNumId = item['itemNumId']\n",
    "    coupons = coupons # -----------------------------------------> getCoupon(item['itemNumId'])\n",
    "    if len(coupons) > 0:\n",
    "        hasCoupon = True\n",
    "    else:\n",
    "        hasCoupon = False\n",
    "    item_obj = dict(\n",
    "        itemNumId=int(item['itemNumId']),\n",
    "        userId=item['userId'],\n",
    "        name=item['name'],\n",
    "        nick=item['nick'],\n",
    "        price=float(item['price']),\n",
    "        coupons=coupons,\n",
    "        hasCoupon=hasCoupon\n",
    "    )\n",
    "    print item['nick'], item['userId']\n",
    "    search.append(item_obj)\n",
    "\n",
    "\n"
   ]
  }
 ],
 "metadata": {
  "kernelspec": {
   "display_name": "Python 2",
   "language": "python",
   "name": "python2"
  },
  "language_info": {
   "codemirror_mode": {
    "name": "ipython",
    "version": 2
   },
   "file_extension": ".py",
   "mimetype": "text/x-python",
   "name": "python",
   "nbconvert_exporter": "python",
   "pygments_lexer": "ipython2",
   "version": "2.7.6"
  }
 },
 "nbformat": 4,
 "nbformat_minor": 0
}
