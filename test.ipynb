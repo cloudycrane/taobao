{
 "cells": [
  {
   "cell_type": "code",
   "execution_count": 2,
   "metadata": {
    "collapsed": true
   },
   "outputs": [],
   "source": [
    "# -*- coding: UTF-8 -*-\n",
    "import sys\n",
    "import time\n",
    "import leveldb\n",
    "from urllib import quote_plus\n",
    "import re\n",
    "import json\n",
    "import itertools\n",
    "import sys\n",
    "import requests\n",
    "from Queue import Queue\n",
    "from threading import Thread\n",
    "\n",
    "URL_BASE = 'http://s.m.taobao.com/search?q={}&n=200&m=api4h5&style=list&page={}'\n",
    "\n",
    "def url_get(url):\n",
    "    # print('GET ' + url)\n",
    "    header = dict()\n",
    "    header['Accept'] = 'text/html,application/xhtml+xml,application/xml;q=0.9,*/*;q=0.8'\n",
    "    header['Accept-Encoding'] = 'gzip,deflate,sdch'\n",
    "    header['Accept-Language'] = 'en-US,en;q=0.8'\n",
    "    header['Connection'] = 'keep-alive'\n",
    "    header['DNT'] = '1'\n",
    "    # header['User-Agent'] = 'Mozilla/5.0 (Macintosh; Intel Mac OS X 10_8_0) AppleWebKit/537.36 (KHTML, like Gecko) Chrome/28.0.1500.71 Safari/537.36'\n",
    "    header['User-Agent'] = 'Mozilla/12.0 (compatible; MSIE 8.0; Windows NT)'\n",
    "    return requests.get(url, timeout=5, headers=header).text"
   ]
  },
  {
   "cell_type": "code",
   "execution_count": 4,
   "metadata": {},
   "outputs": [],
   "source": [
    "reload(sys)\n",
    "sys.setdefaultencoding('utf-8')\n",
    "\n",
    "wx_id = 'wx000001'\n",
    "item_name = '壹可医研弹力美肌水'\n",
    "item_page = '1'\n"
   ]
  },
  {
   "cell_type": "code",
   "execution_count": 19,
   "metadata": {},
   "outputs": [],
   "source": [
    "import redis\n",
    "pool = redis.ConnectionPool(host='localhost',port=6379,decode_responses=True)\n",
    "rds = redis.Redis(connection_pool=pool)\n",
    "rds.set('leveldb_id', '1')\n",
    "rds.get('leveldb_id')"
   ]
  },
  {
   "cell_type": "code",
   "execution_count": 14,
   "metadata": {},
   "outputs": [],
   "source": [
    "url = URL_BASE.format(quote_plus(item_name), item_page)\n",
    "print(url)"
   ]
  },
  {
   "cell_type": "code",
   "execution_count": 15,
   "metadata": {},
   "outputs": [],
   "source": [
    "for tr in range(5):\n",
    "    try:\n",
    "        items_obj = json.loads(url_get(url))\n",
    "        break\n",
    "    except KeyboardInterrupt:\n",
    "        quit()\n",
    "    except Exception as e:\n",
    "        if tr == 4: raise e\n",
    "        \n",
    "if len(items_obj['listItem']) == 0:\n",
    "    print('no listItem')\n"
   ]
  },
  {
   "cell_type": "code",
   "execution_count": 22,
   "metadata": {},
   "outputs": [],
   "source": [
    "for item in items_obj['listItem']:\n",
    "    item_obj = dict(\n",
    "        _id=int(item['itemNumId']),\n",
    "        name=item['name'],\n",
    "        wx_id=wx_id,\n",
    "        nick=item['nick']\n",
    "    )\n",
    "    id = rds.incr('leveldb_id')\n",
    "    rds.set(str(id), json.dumps(item_obj, ensure_ascii=False))\n",
    "print('Get {} items from {} on page {}'.format(len(items_obj['listItem']), item_name, item_page))\n",
    "\n",
    "\n"
   ]
  },
  {
   "cell_type": "code",
   "execution_count": 23,
   "metadata": {},
   "outputs": [],
   "source": [
    "for k in rds.keys():\n",
    "    print k\n",
    "    print rds.get(k)"
   ]
  },
  {
   "cell_type": "code",
   "execution_count": 86,
   "metadata": {
    "collapsed": true
   },
   "outputs": [],
   "source": [
    "item_id = 542641956354"
   ]
  },
  {
   "cell_type": "code",
   "execution_count": 88,
   "metadata": {
    "collapsed": false
   },
   "outputs": [],
   "source": [
    "base_url='https://h5api.m.taobao.com/h5/mtop.taobao.baichuan.smb.get/1.0/?jsv=2.4.16&appKey=12574478&t=1540469490629&sign=52f5345f9f23e070d506a864e5ba09cd&api=mtop.taobao.baichuan.smb.get&v=1.0&type=originaljson&dataType=jsonp&timeout=10000'"
   ]
  },
  {
   "cell_type": "code",
   "execution_count": 100,
   "metadata": {
    "collapsed": true
   },
   "outputs": [],
   "source": [
    "header = dict()\n",
    "header['Accept'] = 'text/html,application/xhtml+xml,application/xml;q=0.9,*/*;q=0.8'\n",
    "header['Accept-Encoding'] = 'gzip,deflate,sdch'\n",
    "header['Accept-Language'] = 'en-US,en;q=0.8'\n",
    "header['Connection'] = 'keep-alive'\n",
    "header['DNT'] = '1'\n",
    "header['User-Agent'] = 'Mozilla/5.0 (iPhone; CPU iPhone OS 11_0 like Mac OS X) AppleWebKit/604.1.38 (KHTML, like Gecko) Version/11.0 Mobile/15A372 Safari/604.1'\n",
    "header['referer'] = 'https://market.m.taobao.com/app/mtb/h5-tb-detail-old/index.html?ut_sk=1.WIcwks7gRNMDAL1z8%2BpHckJi_21380790_1540282964443.AliPay.1&id=560730435940&sourceType=item&price=917&suid=D04AC4D7-9F45-42F0-8274-53A5C785F008'\n",
    "header['cookie'] = 'https://market.m.taobao.com/app/mtb/h5-tb-detail-old/index.html?ut_sk=1.WIcwks7gRNMDAL1z8%2BpHckJi_21380790_1540282964443.AliPay.1&id=560730435940&sourceType=item&price=917&suid=D04AC4D7-9F45-42F0-8274-53A5C785F008' \n",
    "print requests.get(base_url, timeout=5, headers=header).text\n",
    "\n",
    "\n"
   ]
  },
  {
   "cell_type": "code",
   "execution_count": 46,
   "metadata": {},
   "outputs": [],
   "source": [
    "try:\n",
    "    db_cate.Get(orig_cate)\n",
    "except:\n",
    "    db_cate.Put(orig_cate, 'waiting')"
   ]
  },
  {
   "cell_type": "code",
   "execution_count": null,
   "metadata": {},
   "outputs": [],
   "source": [
    "cate_queue = Queue(maxsize=1000)"
   ]
  },
  {
   "cell_type": "code",
   "execution_count": null,
   "metadata": {},
   "outputs": [],
   "source": []
  },
  {
   "cell_type": "code",
   "execution_count": 50,
   "metadata": {},
   "outputs": [],
   "source": [
    "cate_th = Thread(target=cate_thread, args=(cate_queue, db_cate))\n",
    "cate_th.start()\n"
   ]
  },
  {
   "cell_type": "code",
   "execution_count": 2,
   "metadata": {},
   "outputs": [
    {
     "ename": "NameError",
     "evalue": "name 'URL_BASE' is not defined",
     "traceback": [
      "\u001b[0;31m\u001b[0m",
      "\u001b[0;31mNameError\u001b[0mTraceback (most recent call last)",
      "\u001b[0;32m<ipython-input-2-e33115943b08>\u001b[0m in \u001b[0;36m<module>\u001b[0;34m()\u001b[0m\n\u001b[0;32m----> 1\u001b[0;31m \u001b[0murl\u001b[0m \u001b[0;34m=\u001b[0m \u001b[0mURL_BASE\u001b[0m\u001b[0;34m.\u001b[0m\u001b[0mformat\u001b[0m\u001b[0;34m(\u001b[0m\u001b[0mquote_plus\u001b[0m\u001b[0;34m(\u001b[0m\u001b[0mcate\u001b[0m\u001b[0;34m)\u001b[0m\u001b[0;34m,\u001b[0m \u001b[0mitem_page\u001b[0m\u001b[0;34m)\u001b[0m\u001b[0;34m\u001b[0m\u001b[0m\n\u001b[0m",
      "\u001b[0;31mNameError\u001b[0m: name 'URL_BASE' is not defined"
     ],
     "output_type": "error"
    }
   ],
   "source": [
    "url = URL_BASE.format(quote_plus(cate), item_page)"
   ]
  },
  {
   "cell_type": "code",
   "execution_count": null,
   "metadata": {},
   "outputs": [],
   "source": [
    "def item_thread(item_name, db_item):\n",
    "    while True:\n",
    "        try:\n",
    "            cate = cate_queue.get()\n",
    "            post_exist = True\n",
    "            try:\n",
    "                state = db_cate.Get(cate)\n",
    "                if state != 'OK': post_exist = False\n",
    "            except:\n",
    "                post_exist = False\n",
    "            if post_exist == True:\n",
    "                print('cate-{}: {} already exists ... Ignore'.format(cate, cate))\n",
    "                continue\n",
    "            db_cate.Put(cate, 'crawling')\n",
    "            for item_page in itertools.count(1):\n",
    "                url = URL_BASE.format(quote_plus(cate), item_page)\n",
    "                print(url)\n",
    "                for tr in range(5):\n",
    "                    try:\n",
    "                        items_obj = json.loads(url_get(url))\n",
    "                        break\n",
    "                    except KeyboardInterrupt:\n",
    "                        quit()\n",
    "                    except Exception as e:\n",
    "                        if tr == 4: raise e\n",
    "                #----jump out from loop-----#\n",
    "                # break when page is empty or\n",
    "                if len(items_obj['listItem']) == 0 or item_page > 1: break\n",
    "                for item in items_obj['listItem']:\n",
    "                    item_obj = dict(\n",
    "                        _id=int(item['itemNumId']),\n",
    "                        name=item['name'],\n",
    "                        price=float(item['price']),\n",
    "                        query=cate,\n",
    "                        # category = int(item['category']) if item['category'] != '' else 0,\n",
    "                        nick=item['nick'],\n",
    "                        area=item['area'])\n",
    "                    db_item.Put(str(item_obj['_id']).encode('utf-8'),\n",
    "                                json.dumps(item_obj, ensure_ascii=False))\n",
    "\n",
    "                print('Get {} items from {} on page {}'.format(len(items_obj['listItem']), cate, item_page))\n",
    "\n",
    "                if 'nav' in items_obj:\n",
    "                    for na in items_obj['nav']['navCatList']:\n",
    "                        try:\n",
    "                            db_cate.Get(na['name'])\n",
    "                        except:\n",
    "                            db_cate.Put(na['name'], 'waiting')\n",
    "            db_cate.Put(cate, 'OK')\n",
    "            print(cate.encode('utf-8'), 'OK')\n",
    "            break\n",
    "        except KeyboardInterrupt:\n",
    "            break\n",
    "        except Exception as e:\n",
    "            print('An {} exception occured'.format(e))\n"
   ]
  },
  {
   "cell_type": "code",
   "execution_count": 25,
   "metadata": {},
   "outputs": [
    {
     "data": {
      "text/plain": [
       "True"
      ]
     },
     "execution_count": 25,
     "metadata": {},
     "output_type": "execute_result"
    }
   ],
   "source": [
    ""
   ]
  },
  {
   "cell_type": "code",
   "execution_count": 28,
   "metadata": {},
   "outputs": [],
   "source": [
    "rds.set('1111', 'a')\n",
    "print rds.get('1111')\n",
    "rds.set('1111', 'aaa')\n",
    "print rds.get('1111')"
   ]
  }
 ],
 "metadata": {
  "kernelspec": {
   "display_name": "Python 2",
   "language": "python",
   "name": "python2"
  },
  "language_info": {
   "codemirror_mode": {
    "name": "ipython",
    "version": 2
   },
   "file_extension": ".py",
   "mimetype": "text/x-python",
   "name": "python",
   "nbconvert_exporter": "python",
   "pygments_lexer": "ipython2",
   "version": "2.7.15rc1"
  }
 },
 "nbformat": 4,
 "nbformat_minor": 1
}
