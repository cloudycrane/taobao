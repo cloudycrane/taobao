{
 "cells": [
  {
   "cell_type": "code",
   "execution_count": 3,
   "metadata": {
    "collapsed": true
   },
   "outputs": [],
   "source": [
    "# -*- coding: UTF-8 -*-\n",
    "from urllib import quote_plus\n",
    "import urllib2\n",
    "import sys\n",
    "import json\n",
    "\n",
    "def url_get(url):\n",
    "    headers = {\n",
    "        'Accept':'application/json, text/plain, */*',\n",
    "        'Accept-Language':'zh-CN,zh;q=0.3',\n",
    "        'Referer':'https://item.taobao.com/item.htm',\n",
    "        'User-Agent':'Mozilla/5.0 (X11; Linux x86_64) AppleWebKit/537.36 (KHTML, like Gecko) Chrome/58.0.3029.110 Safari/537.36',\n",
    "        'Connection':'keep-alive',\n",
    "    }\n",
    "    request = urllib2.Request(url, headers=headers)\n",
    "    response = urllib2.urlopen(request)\n",
    "    return response.read().decode('utf-8')\n",
    "\n",
    "\n"
   ]
  },
  {
   "cell_type": "code",
   "execution_count": 2,
   "metadata": {},
   "outputs": [],
   "source": [
    "shopId = '192173170'"
   ]
  },
  {
   "cell_type": "code",
   "execution_count": 7,
   "metadata": {},
   "outputs": [],
   "source": [
    "reload(sys)\n",
    "sys.setdefaultencoding('utf-8')\n",
    "\n",
    "URL_BASE = 'http://api.s.m.taobao.com/search.json?m=shopitemsearch&shopId={}&n=40&page={}'\n",
    "item_page = '1'\n",
    "\n",
    "while True:\n",
    "    url = URL_BASE.format(quote_plus(shopId), item_page)\n",
    "    for tr in range(5):\n",
    "        try:\n",
    "            items_obj = json.loads(url_get(url))\n",
    "            break\n",
    "        except KeyboardInterrupt:\n",
    "            quit()\n",
    "        except Exception as e:\n",
    "            if tr == 4: raise e\n",
    "    \n",
    "    if len(items_obj['itemsArray']) == 0:\n",
    "        print('no listItem')\n",
    "        break\n",
    "        \n",
    "        \n",
    "    \n",
    "    \n"
   ]
  },
  {
   "cell_type": "code",
   "execution_count": 5,
   "metadata": {},
   "outputs": [
    {
     "ename": "NameError",
     "evalue": "name 'items_obj' is not defined",
     "traceback": [
      "\u001b[0;31m\u001b[0m",
      "\u001b[0;31mNameError\u001b[0mTraceback (most recent call last)",
      "\u001b[0;32m<ipython-input-5-717e59d5a5b1>\u001b[0m in \u001b[0;36m<module>\u001b[0;34m()\u001b[0m\n\u001b[0;32m----> 1\u001b[0;31m \u001b[0;32mfor\u001b[0m \u001b[0mitem\u001b[0m \u001b[0;32min\u001b[0m \u001b[0mitems_obj\u001b[0m\u001b[0;34m[\u001b[0m\u001b[0;34m'itemsArray'\u001b[0m\u001b[0;34m]\u001b[0m\u001b[0;34m:\u001b[0m\u001b[0;34m\u001b[0m\u001b[0m\n\u001b[0m\u001b[1;32m      2\u001b[0m         df = df.append({\n\u001b[1;32m      3\u001b[0m             \u001b[0;34m'id'\u001b[0m\u001b[0;34m:\u001b[0m \u001b[0mitem\u001b[0m\u001b[0;34m[\u001b[0m\u001b[0;34m'item_id'\u001b[0m\u001b[0;34m]\u001b[0m\u001b[0;34m,\u001b[0m\u001b[0;34m\u001b[0m\u001b[0m\n\u001b[1;32m      4\u001b[0m             \u001b[0;34m'title'\u001b[0m\u001b[0;34m:\u001b[0m \u001b[0mitem\u001b[0m\u001b[0;34m[\u001b[0m\u001b[0;34m'title'\u001b[0m\u001b[0;34m]\u001b[0m\u001b[0;34m,\u001b[0m\u001b[0;34m\u001b[0m\u001b[0m\n\u001b[1;32m      5\u001b[0m             \u001b[0;34m'price'\u001b[0m\u001b[0;34m:\u001b[0m \u001b[0mitem\u001b[0m\u001b[0;34m[\u001b[0m\u001b[0;34m'price'\u001b[0m\u001b[0;34m]\u001b[0m\u001b[0;34m,\u001b[0m\u001b[0;34m\u001b[0m\u001b[0m\n",
      "\u001b[0;31mNameError\u001b[0m: name 'items_obj' is not defined"
     ],
     "output_type": "error"
    }
   ],
   "source": [
    "for item in items_obj['itemsArray']:       \n",
    "        df = df.append({\n",
    "            'id': item['item_id'],\n",
    "            'title': item['title'],\n",
    "            'price': item['price'],\n",
    "            'priceWithRate': item['priceWithRate'],\n",
    "            'isprepay': int(item['isprepay']) if item.has_key('isprepay') else 0\n",
    "        }, ignore_index=True)"
   ]
  },
  {
   "cell_type": "code",
   "execution_count": 3,
   "metadata": {},
   "outputs": [],
   "source": [
    "shopId = '192173170'"
   ]
  },
  {
   "cell_type": "code",
   "execution_count": null,
   "metadata": {},
   "outputs": [],
   "source": []
  }
 ],
 "metadata": {
  "kernelspec": {
   "display_name": "Python 2",
   "language": "python",
   "name": "python2"
  },
  "language_info": {
   "codemirror_mode": {
    "name": "ipython",
    "version": 2
   },
   "file_extension": ".py",
   "mimetype": "text/x-python",
   "name": "python",
   "nbconvert_exporter": "python",
   "pygments_lexer": "ipython2",
   "version": "2.7.6"
  }
 },
 "nbformat": 4,
 "nbformat_minor": 0
}
