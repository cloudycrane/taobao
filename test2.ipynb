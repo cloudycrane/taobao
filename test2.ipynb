{
 "cells": [
  {
   "cell_type": "code",
   "execution_count": 1,
   "metadata": {
    "collapsed": true
   },
   "outputs": [
    {
     "ename": "SyntaxError",
     "evalue": "EOL while scanning string literal (<ipython-input-1-b53d660a2018>, line 1)",
     "traceback": [
      "\u001b[0;36m  File \u001b[0;32m\"<ipython-input-1-b53d660a2018>\"\u001b[0;36m, line \u001b[0;32m1\u001b[0m\n\u001b[0;31m    base_url = 'https://h5api.m.taobao.com/h5/mtop.taobao.baichuan.smb.get/1.0/?jsv=2.4.16&appKey=12574478&t=1540469490629&sign=52f5345f9f23e070d506a864e5ba09cd&api=mtop.taobao.baichuan.smb.get&v=1.0&type=originaljson&dataType=jsonp&timeout=10000‘\u001b[0m\n\u001b[0m                                                                                                                                                                                                                                                       \n^\u001b[0m\n\u001b[0;31mSyntaxError\u001b[0m\u001b[0;31m:\u001b[0m EOL while scanning string literal\n"
     ],
     "output_type": "error"
    }
   ],
   "source": [
    "base_url = 'https://h5api.m.taobao.com/h5/mtop.taobao.baichuan.smb.get/1.0/?jsv=2.4.16&appKey=12574478&t=1540469490629&sign=52f5345f9f23e070d506a864e5ba09cd&api=mtop.taobao.baichuan.smb.get&v=1.0&type=originaljson&dataType=jsonp&timeout=10000‘"
   ]
  },
  {
   "cell_type": "code",
   "execution_count": 26,
   "metadata": {},
   "outputs": [],
   "source": [
    "try:\n",
    "    import cookielib  # 兼容Python2\n",
    "except:\n",
    "    import http.cookiejar as cookielib  # python 3 need import http.cookiejar\n",
    "\n",
    "import requests\n",
    "session = requests.session()\n",
    "session.cookies = cookielib.LWPCookieJar(filename=\"cookies.txt\")  # LWP实例化的cookie可直接调用save方法\n",
    "session.cookies.load(ignore_discard=True)\n",
    "\n",
    "\n",
    "url='https://m.intl.taobao.com/'"
   ]
  },
  {
   "cell_type": "code",
   "execution_count": 27,
   "metadata": {},
   "outputs": [],
   "source": [
    "header = {\n",
    "    \n",
    "}\n",
    "response = session.get(url, headers=header)  # more effective\n",
    "\n"
   ]
  },
  {
   "cell_type": "code",
   "execution_count": 17,
   "metadata": {},
   "outputs": [
    {
     "name": "stdout",
     "output_type": "stream",
     "text": [
      "Cookie正常加载\n"
     ]
    }
   ],
   "source": [
    "session.cookies.save()\n",
    "\n",
    "try:\n",
    "    session.cookies.load(ignore_discard=True)\n",
    "    print(\"Cookie正常加载\")\n",
    "except:\n",
    "    print(\"Cookie未能加载\")\n",
    "\n"
   ]
  },
  {
   "cell_type": "code",
   "execution_count": 24,
   "metadata": {
    "collapsed": false
   },
   "outputs": [
    {
     "name": "stdout",
     "output_type": "stream",
     "text": [
      "mtopjsonp5({ \"ret\": [\"RGV587_ERROR::SM\" ],\"data\": { \"url\": \"https://login.m.taobao.com/login.htm?from=sm&ttid=h5@iframe&redirectURL=https%3a%2f%2fh5api.m.taobao.com:443/h5/mtop.macao.market.activity.applycoupon.querycouponsfordetail/1.0/_____tmd_____/punish%3fx5secdata=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%26x5step=100\" }})\n<RequestsCookieJar[]>\n"
     ]
    }
   ],
   "source": [
    "url1 = 'https://h5api.m.taobao.com/h5/mtop.macao.market.activity.applycoupon.querycouponsfordetail/1.0/?jsv=2.4.11&appKey=12574478&t=1540546136907&sign=da72a72157e3be2b3281649c3df6e5a6&api=mtop.macao.market.activity.applycoupon.querycouponsfordetail&v=1.0&ttid=2017%40htao_h5_1.0.0&type=jsonp&dataType=jsonp&callback=mtopjsonp5&data=%7B%22itemId%22%3A%22557802007582%22%2C%22sellerType%22%3A%22C%22%2C%22sellerId%22%3A%222471843743%22%2C%22from%22%3A%22detail%22%2C%22ttid%22%3A%222017%40htao_h5_1.0.0%22%7D'\n",
    "header1 = {}\n",
    "r=session.get(url1, headers=header1) \n",
    "print r.text"
   ]
  }
 ],
 "metadata": {
  "kernelspec": {
   "display_name": "Python 2",
   "language": "python",
   "name": "python2"
  },
  "language_info": {
   "codemirror_mode": {
    "name": "ipython",
    "version": 2
   },
   "file_extension": ".py",
   "mimetype": "text/x-python",
   "name": "python",
   "nbconvert_exporter": "python",
   "pygments_lexer": "ipython2",
   "version": "2.7.6"
  }
 },
 "nbformat": 4,
 "nbformat_minor": 0
}
