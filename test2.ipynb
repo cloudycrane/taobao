{
 "cells": [
  {
   "cell_type": "code",
   "execution_count": 2,
   "metadata": {
    "collapsed": false
   },
   "outputs": [
    {
     "ename": "SyntaxError",
     "evalue": "EOL while scanning string literal (<ipython-input-2-ce03ae657769>, line 1)",
     "traceback": [
      "\u001b[0;36m  File \u001b[0;32m\"<ipython-input-2-ce03ae657769>\"\u001b[0;36m, line \u001b[0;32m1\u001b[0m\n\u001b[0;31m    base_url = 'https://h5api.m.tmall.com/h5/mtop.tmall.detail.couponpage/1.0/?jsv=2.4.8&appKey=12574478&t=1540478425624&sign=70a7b47496ab3a573fd93d349d8bd8c4&api=mtop.tmall.detail.couponpage&v=1.0&ttid=tmalldetail&type=jsonp&dataType=jsonp&callback=mtopjsonp6&data=%7B%22itemId%22%3A577614256759%2C%22source%22%3A%22tmallH5%22%7D‘\u001b[0m\n\u001b[0m                                                                                                                                                                                                                                                                                                                                           \n^\u001b[0m\n\u001b[0;31mSyntaxError\u001b[0m\u001b[0;31m:\u001b[0m EOL while scanning string literal\n"
     ],
     "output_type": "error"
    }
   ],
   "source": [
    "base_url = 'https://h5api.m.tmall.com/h5/mtop.tmall.detail.couponpage/1.0/?jsv=2.4.8&appKey=12574478&t=1540478425624&sign=70a7b47496ab3a573fd93d349d8bd8c4&api=mtop.tmall.detail.couponpage&v=1.0&ttid=tmalldetail&type=jsonp&dataType=jsonp&callback=mtopjsonp6&data=%7B%22itemId%22%3A577614256759%2C%22source%22%3A%22tmallH5%22%7D‘"
   ]
  },
  {
   "cell_type": "code",
   "execution_count": 3,
   "metadata": {},
   "outputs": [
    {
     "ename": "SyntaxError",
     "evalue": "invalid syntax (<ipython-input-3-08c79f655d1b>, line 1)",
     "traceback": [
      "\u001b[0;36m  File \u001b[0;32m\"<ipython-input-3-08c79f655d1b>\"\u001b[0;36m, line \u001b[0;32m1\u001b[0m\n\u001b[0;31m    https://item.taobao.com/item.htm?id=44700054969&ali_refid=a3_420650_1007:97760438:T:8378567878500688272_0_100:da83bdbd64f24f1895764965e48a31cd&ali_trackid=31_da83bdbd64f24f1895764965e48a31cd&spm=2013.1.0.0\u001b[0m\n\u001b[0m         ^\u001b[0m\n\u001b[0;31mSyntaxError\u001b[0m\u001b[0;31m:\u001b[0m invalid syntax\n"
     ],
     "output_type": "error"
    }
   ],
   "source": [
    "https://item.taobao.com/item.htm?id=44700054969&ali_refid=a3_420650_1007:97760438:T:8378567878500688272_0_100:da83bdbd64f24f1895764965e48a31cd&ali_trackid=31_da83bdbd64f24f1895764965e48a31cd&spm=2013.1.0.0"
   ]
  },
  {
   "cell_type": "code",
   "execution_count": null,
   "metadata": {},
   "outputs": [],
   "source": [
    "https://detailskip.taobao.com/service/getData/1/p1/item/detail/sib.htm?itemId=44700054969&sellerId=1819108302&modules=dynStock,qrcode,viewer,price,duty,xmpPromotion,delivery,upp,activity,fqg,zjys,couponActivity,soldQuantity,originalPrice,tradeContract&callback=onSibRequestSuccess"
   ]
  }
 ],
 "metadata": {
  "kernelspec": {
   "display_name": "Python 2",
   "language": "python",
   "name": "python2"
  },
  "language_info": {
   "codemirror_mode": {
    "name": "ipython",
    "version": 2
   },
   "file_extension": ".py",
   "mimetype": "text/x-python",
   "name": "python",
   "nbconvert_exporter": "python",
   "pygments_lexer": "ipython2",
   "version": "2.7.6"
  }
 },
 "nbformat": 4,
 "nbformat_minor": 0
}
