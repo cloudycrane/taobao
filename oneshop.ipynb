{
 "cells": [
  {
   "cell_type": "code",
   "execution_count": null,
   "metadata": {
    "collapsed": true
   },
   "outputs": [
    {
     "name": "stderr",
     "output_type": "stream",
     "text": [
      "/usr/local/lib/python2.7/dist-packages/requests/__init__.py:83: RequestsDependencyWarning: Old version of cryptography ([1, 2, 3]) may cause slowdown.\n  warnings.warn(warning, RequestsDependencyWarning)\n"
     ]
    }
   ],
   "source": [
    "# -*- coding: UTF-8 -*-\n",
    "import sys\n",
    "import time\n",
    "import leveldb\n",
    "from urllib import quote_plus\n",
    "import pandas as pd\n",
    "import numpy as np\n",
    "import re\n",
    "import json\n",
    "import itertools\n",
    "import sys\n",
    "import requests\n",
    "\n",
    "reload(sys)\n",
    "sys.setdefaultencoding('utf-8')\n",
    "def url_get(url):\n",
    "    # print('GET ' + url)\n",
    "    header = dict()\n",
    "    header['Accept'] = 'text/html,application/xhtml+xml,application/xml;q=0.9,*/*;q=0.8'\n",
    "    header['Accept-Encoding'] = 'gzip,deflate,sdch'\n",
    "    header['Accept-Language'] = 'en-US,en;q=0.8'\n",
    "    header['Connection'] = 'keep-alive'\n",
    "    header['DNT'] = '1'\n",
    "    # header['User-Agent'] = 'Mozilla/5.0 (Macintosh; Intel Mac OS X 10_8_0) AppleWebKit/537.36 (KHTML, like Gecko) Chrome/28.0.1500.71 Safari/537.36'\n",
    "    header['User-Agent'] = 'Mozilla/12.0 (compatible; MSIE 8.0; Windows NT)'\n",
    "    return requests.get(url, timeout=5, headers=header).text\n",
    "\n",
    "URL_BASE = 'http://api.s.m.taobao.com/search.json?m=shopitemsearch&sellerId={}&n=40&page={}'\n",
    "item_page = '1'\n",
    "sellerId = '4135951433'\n",
    "sellerId = '2471843743'\n",
    "df = pd.DataFrame(columns=['id', 'title', 'price', 'priceWithRate', 'isprepay'])\n",
    "while True:\n",
    "    url = URL_BASE.format(quote_plus(sellerId), item_page)\n",
    "    for tr in range(5):\n",
    "        try:\n",
    "            items_obj = json.loads(url_get(url))\n",
    "            break\n",
    "        except KeyboardInterrupt:\n",
    "            quit()\n",
    "        except Exception as e:\n",
    "            if tr == 4: raise e\n",
    "     \n",
    "    if len(items_obj['itemsArray']) == 0:\n",
    "        print('no listItem')\n",
    "        break\n",
    "        \n",
    "    for item in items_obj['itemsArray']:       \n",
    "        df = df.append({\n",
    "            'id': item['item_id'],\n",
    "            'title': item['title'],\n",
    "            'price': item['price'],\n",
    "            'priceWithRate': item['priceWithRate'],\n",
    "            'isprepay': int(item['isprepay']) if item.has_key('isprepay') else 0\n",
    "        }, ignore_index=True)\n",
    "               \n",
    "    if int(items_obj['totalPage']) > int(item_page):\n",
    "        item_page = str(int(item_page) + 1)\n",
    "    else:\n",
    "        break\n",
    "\n",
    "\n",
    "\n"
   ]
  },
  {
   "cell_type": "code",
   "execution_count": 16,
   "metadata": {},
   "outputs": [
    {
     "ename": "ValueError",
     "evalue": "attempt to get argmin of an empty sequence",
     "traceback": [
      "\u001b[0;31m\u001b[0m",
      "\u001b[0;31mValueError\u001b[0mTraceback (most recent call last)",
      "\u001b[0;32m<ipython-input-16-43f4dc9ae41e>\u001b[0m in \u001b[0;36m<module>\u001b[0;34m()\u001b[0m\n\u001b[1;32m     10\u001b[0m     \u001b[0mitems_index\u001b[0m \u001b[0;34m=\u001b[0m \u001b[0mdf0\u001b[0m\u001b[0;34m.\u001b[0m\u001b[0mindex\u001b[0m\u001b[0;34m.\u001b[0m\u001b[0mtolist\u001b[0m\u001b[0;34m(\u001b[0m\u001b[0;34m)\u001b[0m\u001b[0;34m\u001b[0m\u001b[0m\n\u001b[1;32m     11\u001b[0m     \u001b[0mminPrice\u001b[0m \u001b[0;34m=\u001b[0m \u001b[0mfloat\u001b[0m\u001b[0;34m(\u001b[0m\u001b[0mdf0\u001b[0m\u001b[0;34m[\u001b[0m\u001b[0;34m'priceWithRate'\u001b[0m\u001b[0;34m]\u001b[0m\u001b[0;34m.\u001b[0m\u001b[0mmin\u001b[0m\u001b[0;34m(\u001b[0m\u001b[0;34m)\u001b[0m\u001b[0;34m)\u001b[0m\u001b[0;34m\u001b[0m\u001b[0m\n\u001b[0;32m---> 12\u001b[0;31m     \u001b[0mminPriceIndex\u001b[0m \u001b[0;34m=\u001b[0m \u001b[0mdf0\u001b[0m\u001b[0;34m[\u001b[0m\u001b[0;34m'priceWithRate'\u001b[0m\u001b[0;34m]\u001b[0m\u001b[0;34m.\u001b[0m\u001b[0mastype\u001b[0m\u001b[0;34m(\u001b[0m\u001b[0mnp\u001b[0m\u001b[0;34m.\u001b[0m\u001b[0mfloat64\u001b[0m\u001b[0;34m)\u001b[0m\u001b[0;34m.\u001b[0m\u001b[0midxmin\u001b[0m\u001b[0;34m(\u001b[0m\u001b[0;34m)\u001b[0m\u001b[0;34m\u001b[0m\u001b[0m\n\u001b[0m\u001b[1;32m     13\u001b[0m     d[i] = {\n\u001b[1;32m     14\u001b[0m         \u001b[0;34m'items_index'\u001b[0m\u001b[0;34m:\u001b[0m \u001b[0mitems_index\u001b[0m\u001b[0;34m,\u001b[0m\u001b[0;34m\u001b[0m\u001b[0m\n",
      "\u001b[0;32m/home/yunhe/.local/lib/python2.7/site-packages/pandas/core/series.pyc\u001b[0m in \u001b[0;36midxmin\u001b[0;34m(self, axis, skipna, *args, **kwargs)\u001b[0m\n\u001b[1;32m   1234\u001b[0m         \"\"\"\n\u001b[1;32m   1235\u001b[0m         \u001b[0mskipna\u001b[0m \u001b[0;34m=\u001b[0m \u001b[0mnv\u001b[0m\u001b[0;34m.\u001b[0m\u001b[0mvalidate_argmin_with_skipna\u001b[0m\u001b[0;34m(\u001b[0m\u001b[0mskipna\u001b[0m\u001b[0;34m,\u001b[0m \u001b[0margs\u001b[0m\u001b[0;34m,\u001b[0m \u001b[0mkwargs\u001b[0m\u001b[0;34m)\u001b[0m\u001b[0;34m\u001b[0m\u001b[0m\n\u001b[0;32m-> 1236\u001b[0;31m         \u001b[0mi\u001b[0m \u001b[0;34m=\u001b[0m \u001b[0mnanops\u001b[0m\u001b[0;34m.\u001b[0m\u001b[0mnanargmin\u001b[0m\u001b[0;34m(\u001b[0m\u001b[0m_values_from_object\u001b[0m\u001b[0;34m(\u001b[0m\u001b[0mself\u001b[0m\u001b[0;34m)\u001b[0m\u001b[0;34m,\u001b[0m \u001b[0mskipna\u001b[0m\u001b[0;34m=\u001b[0m\u001b[0mskipna\u001b[0m\u001b[0;34m)\u001b[0m\u001b[0;34m\u001b[0m\u001b[0m\n\u001b[0m\u001b[1;32m   1237\u001b[0m         \u001b[0;32mif\u001b[0m \u001b[0mi\u001b[0m \u001b[0;34m==\u001b[0m \u001b[0;34m-\u001b[0m\u001b[0;36m1\u001b[0m\u001b[0;34m:\u001b[0m\u001b[0;34m\u001b[0m\u001b[0m\n\u001b[1;32m   1238\u001b[0m             \u001b[0;32mreturn\u001b[0m \u001b[0mnp\u001b[0m\u001b[0;34m.\u001b[0m\u001b[0mnan\u001b[0m\u001b[0;34m\u001b[0m\u001b[0m\n",
      "\u001b[0;32m/home/yunhe/.local/lib/python2.7/site-packages/pandas/core/nanops.pyc\u001b[0m in \u001b[0;36mnanargmin\u001b[0;34m(values, axis, skipna)\u001b[0m\n\u001b[1;32m    488\u001b[0m     values, mask, dtype, _ = _get_values(values, skipna, fill_value_typ='+inf',\n\u001b[1;32m    489\u001b[0m                                          isfinite=True)\n\u001b[0;32m--> 490\u001b[0;31m     \u001b[0mresult\u001b[0m \u001b[0;34m=\u001b[0m \u001b[0mvalues\u001b[0m\u001b[0;34m.\u001b[0m\u001b[0margmin\u001b[0m\u001b[0;34m(\u001b[0m\u001b[0maxis\u001b[0m\u001b[0;34m)\u001b[0m\u001b[0;34m\u001b[0m\u001b[0m\n\u001b[0m\u001b[1;32m    491\u001b[0m     \u001b[0mresult\u001b[0m \u001b[0;34m=\u001b[0m \u001b[0m_maybe_arg_null_out\u001b[0m\u001b[0;34m(\u001b[0m\u001b[0mresult\u001b[0m\u001b[0;34m,\u001b[0m \u001b[0maxis\u001b[0m\u001b[0;34m,\u001b[0m \u001b[0mmask\u001b[0m\u001b[0;34m,\u001b[0m \u001b[0mskipna\u001b[0m\u001b[0;34m)\u001b[0m\u001b[0;34m\u001b[0m\u001b[0m\n\u001b[1;32m    492\u001b[0m     \u001b[0;32mreturn\u001b[0m \u001b[0mresult\u001b[0m\u001b[0;34m\u001b[0m\u001b[0m\n",
      "\u001b[0;31mValueError\u001b[0m: attempt to get argmin of an empty sequence"
     ],
     "output_type": "error"
    }
   ],
   "source": [
    "\n",
    "items = [u'弹力美肌水', u'三剑客', u'薰衣草', u'逆龄抗老组合', u'杏仁酸修护精华液＋日夜修护水凝膜', u'逆龄抗衰组合',\n",
    "         u'亮白原液', u'亮白原液精华三部曲']\n",
    "items_df = []\n",
    "d = {}\n",
    "for i, item in enumerate(items):   \n",
    "    df0 = df[df['title'].str.contains(item)]\n",
    "    items_df.append(df0)\n",
    "    \n",
    "    items_index = df0.index.tolist()\n",
    "    minPrice = float(df0['priceWithRate'].min())\n",
    "    minPriceIndex = df0['priceWithRate'].astype(np.float64).idxmin()\n",
    "    d[i] = {\n",
    "        'items_index': items_index,\n",
    "        'min_price': minPrice,\n",
    "        'min_price_index': minPriceIndex\n",
    "    }\n",
    "print d"
   ]
  },
  {
   "cell_type": "code",
   "execution_count": 13,
   "metadata": {},
   "outputs": [],
   "source": [
    "coupons = pd.DataFrame([\n",
    "    {\n",
    "        'condition': 3000,\n",
    "        'discount': 300,\n",
    "        'method': 'reach'\n",
    "    },\n",
    "    {\n",
    "        'condition': 2000,\n",
    "        'discount': 200,\n",
    "        'method': 'reach'\n",
    "    },\n",
    "    {\n",
    "        'condition': 1500,\n",
    "        'discount': 150,\n",
    "        'method': 'reach'\n",
    "    },\n",
    "    {\n",
    "        'condition': 6,\n",
    "        'discount': 5,\n",
    "        'method': 'reach'\n",
    "    }\n",
    "])\n"
   ]
  },
  {
   "cell_type": "code",
   "execution_count": 14,
   "metadata": {},
   "outputs": [
    {
     "data": {
      "text/plain": [
       "3363.0"
      ]
     },
     "execution_count": 14,
     "metadata": {},
     "output_type": "execute_result"
    }
   ],
   "source": [
    "minPrice"
   ]
  }
 ],
 "metadata": {
  "kernelspec": {
   "display_name": "Python 2",
   "language": "python",
   "name": "python2"
  },
  "language_info": {
   "codemirror_mode": {
    "name": "ipython",
    "version": 2
   },
   "file_extension": ".py",
   "mimetype": "text/x-python",
   "name": "python",
   "nbconvert_exporter": "python",
   "pygments_lexer": "ipython2",
   "version": "2.7.6"
  }
 },
 "nbformat": 4,
 "nbformat_minor": 0
}
