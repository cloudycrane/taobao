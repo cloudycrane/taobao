{
 "cells": [
  {
   "cell_type": "code",
   "execution_count": 204,
   "metadata": {
    "collapsed": false
   },
   "outputs": [],
   "source": [
    "#_*_ coding: utf-8_*_\n",
    "\n",
    "import json\n",
    "from urllib import quote_plus\n",
    "import re\n",
    "import requests\n",
    "\n",
    "def getCoupons(itemNumId):\n",
    "    exParams = {\n",
    "        \"spm\":\"a230r.1.14.8.22fc51barOCtpH\",\n",
    "        \"id\":itemNumId,\n",
    "        \"ns\":\"1\",\n",
    "        \"abbucket\":\"7\"\n",
    "    }\n",
    "    data = {\n",
    "        \"itemNumId\": itemNumId,\n",
    "        \"exParams\": json.dumps(exParams),\n",
    "        \"detail_v\":\"3.1.1\",\n",
    "        \"ttid\":\"2018@taobao_iphone_9.9.9\",\n",
    "        \"utdid\":\"123123123123123\"\n",
    "    }\n",
    "    \n",
    "    data_part = quote_plus(json.dumps(data))\n",
    "    url = ('https://h5api.m.taobao.com/h5/mtop.taobao.detail.getdetail/6.0/?data=' + data_part).replace('+','')\n",
    "    header = {}\n",
    "    response = requests.get(url, timeout=5, headers=header).json()\n",
    "    \n",
    "    api = json.loads(response['data']['apiStack'][0]['value'])\n",
    "    if api['feature']['hasCoupon'] == 'true':\n",
    "        coupons_origin = api['resource']['coupon']['couponList']\n",
    "        key = 'title'\n",
    "    elif api['price'].has_key('shopProm'):\n",
    "        coupons_origin = api['price']['shopProm'][0]['content']\n",
    "        key = 'content'\n",
    "    else: \n",
    "        coupons_origin = []\n",
    "    \n",
    "    coupons = []\n",
    "    if len(coupons_origin) == 0: return(coupons)\n",
    "    \n",
    "    for coupon_origin in coupons_origin:\n",
    "        if key == 'title':\n",
    "            content = coupon_origin[key]\n",
    "        else:  \n",
    "            content = coupon_origin\n",
    "            \n",
    "        for sub_coupon in content.split(';'):\n",
    "            if '领津贴' in sub_coupon: continue\n",
    "            \n",
    "            matchObj = re.match(\".*满(\\d+)(.{3}).*[减省](\\d+).*\", sub_coupon.encode('utf-8'))\n",
    "            \n",
    "            if matchObj:\n",
    "                condition = matchObj.group(1)\n",
    "                unit = matchObj.group(2)\n",
    "                discount = matchObj.group(3)\n",
    "                coupon = {\n",
    "                    \"condition\": condition,\n",
    "                    \"unit\": unit,\n",
    "                    \"discount\": discount\n",
    "                }\n",
    "                coupons.append(coupon)\n",
    "        \n",
    "    return(coupons)\n"
   ]
  },
  {
   "cell_type": "code",
   "execution_count": 207,
   "metadata": {
    "collapsed": false
   },
   "outputs": [
    {
     "name": "stdout",
     "output_type": "stream",
     "text": [
      "元\n元\n"
     ]
    }
   ],
   "source": [
    "itemNumId = \"573855259967\"\n",
    "#itemNumId = \"577614256759\"\n",
    "a = getCoupons(itemNumId)"
   ]
  },
  {
   "cell_type": "code",
   "execution_count": 202,
   "metadata": {},
   "outputs": [
    {
     "data": {
      "text/plain": [
       "u'\\u5143'"
      ]
     },
     "execution_count": 202,
     "metadata": {},
     "output_type": "execute_result"
    }
   ],
   "source": [
    "a.decode('utf-8')"
   ]
  },
  {
   "cell_type": "code",
   "execution_count": 126,
   "metadata": {},
   "outputs": [],
   "source": [
    "exParams = {\n",
    "        \"spm\":\"a230r.1.14.8.22fc51barOCtpH\",\n",
    "        \"id\":itemNumId,\n",
    "        \"ns\":\"1\",\n",
    "        \"abbucket\":\"7\"\n",
    "    }\n",
    "data = {\n",
    "    \"itemNumId\": itemNumId,\n",
    "    \"exParams\": json.dumps(exParams),\n",
    "    \"detail_v\":\"3.1.1\",\n",
    "    \"ttid\":\"2018@taobao_iphone_9.9.9\",\n",
    "    \"utdid\":\"123123123123123\"\n",
    "}\n",
    "\n",
    "data_part = quote_plus(json.dumps(data))\n",
    "url = ('https://h5api.m.taobao.com/h5/mtop.taobao.detail.getdetail/6.0/?data=' + data_part).replace('+','')\n",
    "header = {}\n",
    "response = requests.get(url, timeout=5, headers=header).json()\n",
    "api = json.loads(response['data']['apiStack'][0]['value'])"
   ]
  },
  {
   "cell_type": "code",
   "execution_count": 133,
   "metadata": {},
   "outputs": [
    {
     "data": {
      "text/plain": [
       "[u'\\u6ee1200\\u5143,\\u770120\\u5143']"
      ]
     },
     "execution_count": 133,
     "metadata": {},
     "output_type": "execute_result"
    }
   ],
   "source": [
    "api['price']['shopProm'][0]['content']"
   ]
  },
  {
   "cell_type": "code",
   "execution_count": 107,
   "metadata": {},
   "outputs": [
    {
     "data": {
      "text/plain": [
       "{}"
      ]
     },
     "execution_count": 107,
     "metadata": {},
     "output_type": "execute_result"
    }
   ],
   "source": [
    "api['resource']['coupon']"
   ]
  }
 ],
 "metadata": {
  "kernelspec": {
   "display_name": "Python 2",
   "language": "python",
   "name": "python2"
  },
  "language_info": {
   "codemirror_mode": {
    "name": "ipython",
    "version": 2
   },
   "file_extension": ".py",
   "mimetype": "text/x-python",
   "name": "python",
   "nbconvert_exporter": "python",
   "pygments_lexer": "ipython2",
   "version": "2.7.6"
  }
 },
 "nbformat": 4,
 "nbformat_minor": 0
}
